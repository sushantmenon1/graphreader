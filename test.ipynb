{
 "cells": [
  {
   "cell_type": "code",
   "execution_count": 1,
   "metadata": {},
   "outputs": [
    {
     "name": "stderr",
     "output_type": "stream",
     "text": [
      "c:\\Users\\Sushant\\anaconda3\\envs\\graphreader\\lib\\site-packages\\pinecone\\data\\index.py:1: TqdmWarning: IProgress not found. Please update jupyter and ipywidgets. See https://ipywidgets.readthedocs.io/en/stable/user_install.html\n",
      "  from tqdm.autonotebook import tqdm\n"
     ]
    }
   ],
   "source": [
    "from graphreader import GraphReader"
   ]
  },
  {
   "cell_type": "code",
   "execution_count": 3,
   "metadata": {},
   "outputs": [
    {
     "name": "stdout",
     "output_type": "stream",
     "text": [
      "Reading and chunking documents\n"
     ]
    },
    {
     "name": "stderr",
     "output_type": "stream",
     "text": [
      "100%|██████████| 282/282 [00:02<00:00, 128.18it/s]\n"
     ]
    },
    {
     "name": "stdout",
     "output_type": "stream",
     "text": [
      "Building document graph\n"
     ]
    },
    {
     "name": "stderr",
     "output_type": "stream",
     "text": [
      "100%|██████████| 827/827 [43:12<00:00,  3.13s/it]\n"
     ]
    },
    {
     "name": "stdout",
     "output_type": "stream",
     "text": [
      "Graph exported to graph.gml\n",
      "Pushing to Pinecone\n"
     ]
    }
   ],
   "source": [
    "graph = GraphReader(document_path=\"roald_dahl_s_tales_of_the_unexpected.pdf\")"
   ]
  },
  {
   "cell_type": "code",
   "execution_count": 4,
   "metadata": {},
   "outputs": [
    {
     "name": "stdout",
     "output_type": "stream",
     "text": [
      "================================\u001b[1m Human Message \u001b[0m=================================\n",
      "\n",
      "who is richard pratt?\n",
      "==================================\u001b[1m Ai Message \u001b[0m==================================\n",
      "Tool Calls:\n",
      "  search_tool (call_LqAutZXvj0vqOdAxCTsuD6L9)\n",
      " Call ID: call_LqAutZXvj0vqOdAxCTsuD6L9\n",
      "  Args:\n",
      "    query: Richard Pratt\n",
      "=================================\u001b[1m Tool Message \u001b[0m=================================\n",
      "Name: search_tool\n",
      "\n",
      "[\"- characters: mike\", \"richard pratt\\n- places: london\\n- organizations: epicures\", \"spectacles\", \"gourmet\", \"mr. schofield\"]\n",
      "==================================\u001b[1m Ai Message \u001b[0m==================================\n",
      "Tool Calls:\n",
      "  get_node_data (call_nZSpEEATDq9lsgCyDkKfHqbI)\n",
      " Call ID: call_nZSpEEATDq9lsgCyDkKfHqbI\n",
      "  Args:\n",
      "    node_name: richard pratt\n",
      "=================================\u001b[1m Tool Message \u001b[0m=================================\n",
      "Name: get_node_data\n",
      "\n",
      "[{\"facts\": \"- Richard Pratt is a famous gourmet.\\n- Mike and his wife prepare special meals for Richard Pratt.\\n- Richard Pratt plays a betting game with Mike where he names the breed and vintage of the claret.\", \"chunk_id\": 3}, {\"facts\": \"- The person was a stock market jobber\\n- He felt embarrassed and ashamed for making a lot of money without much talent\\n- He considered himself like a bookmaker, somewhat unscrupulous\\n- He was trying to improve his cultural and aesthetic taste by collecting paintings, music, and books\\n- He made a comment about Rhine wine and Moselle as part of his attempt to appear cultured\\n- He was observing Richard Pratt closely at the table\", \"chunk_id\": 6}, {\"facts\": \"- Mike brought a dark bottle of wine in a wine basket to share with Richard Pratt.\\n- Richard Pratt appeared arrogant and condescending during the wine tasting.\\n- Mike claimed the wine was a claret, to which Richard guessed it might be from a smaller vineyard.\\n- The quality of the wine's year was uncertain, according to their conversation.\", \"chunk_id\": 10}, {\"facts\": \"- Richard Pratt is confident in naming a great year and willing to bet on it\\n- Mike finds the task difficult and hints at not wanting to force Pratt to bet\\n- Pratt is persistent in wanting to bet despite the difficulty mentioned by Mike\", \"chunk_id\": 11}, {\"facts\": \"- Richard Pratt asks Mike for his daughter' ... (truncated)\n",
      "==================================\u001b[1m Ai Message \u001b[0m==================================\n",
      "Tool Calls:\n",
      "  read_chunk (call_1TJi8vYBh7lXHtJFyEnjEE4c)\n",
      " Call ID: call_1TJi8vYBh7lXHtJFyEnjEE4c\n",
      "  Args:\n",
      "    chunk_ids: [3, 6, 10, 11, 15, 20, 31, 32]\n",
      "=================================\u001b[1m Tool Message \u001b[0m=================================\n",
      "Name: read_chunk\n",
      "\n",
      "\n",
      "The Butler \n",
      "Ah, Sweet Mystery of Life \n",
      "The Bookseller \n",
      "The Hitchhiker \n",
      "The Surgeon \n",
      "SOMEONE LIKE YOU\n",
      "Taste\n",
      "THERE were six of us to dinner that night at Mike Schofield's house in Lon\n",
      "don: Mike and his wife and daughter, and my wife and I, and a man called R\n",
      "ichard Pratt.\n",
      "    Richard Pratt was a famous gourmet. He was president of a small society\n",
      " known as the Epicures, and each month he circulated privately to its membe\n",
      "rs a pamphlet on food and wines. He organized dinners where sumptuous dishe\n",
      "s and rare wines were served. He refused to smoke for fear of harming his p\n",
      "alate, and when discussing a wine, he had a curious, rather droll habit of \n",
      "referring to it as though it were a living being.'A prudent wine,' he woul\n",
      "d say, 'rather diffident and evasive, but quite prudent.' Or, 'A good-humou\n",
      "red wine, benevolent and cheerful slightly obscene, perhaps, but none the l\n",
      "ess good-humoured.'\n",
      "    I had been to dinner at Mike's twice before when Richard Pratt was there\n",
      ", and on each occasion Mike and his wife had gone out of their way to produc\n",
      "e a special meal for the famous gourmet. And this one, clearly, was to be no\n",
      " exception. The moment we entered the dining-room, I could see that the tabl\n",
      "e was laid for a feast. The tall candles, the yellow roses, the quantity of \n",
      "shining silver, the three wineglasses to each person, and above all, the fai\n",
      "nt scent of roasting meat from t ... (truncated)\n",
      "==================================\u001b[1m Ai Message \u001b[0m==================================\n",
      "\n",
      "Richard Pratt is a famous gourmet who is the president of a small society known as the Epicures. He is well-known for circulating pamphlets on food and wines to the society members, organizing sumptuous dinners, and displaying in-depth knowledge about wines. Richard Pratt has a special way of describing wines as though they were living entities, attributing human characteristics to them. During a dinner at Mike Schofield's house, a betting game was played involving naming the breed and vintage of wine, where Pratt displayed his knowledge and earned a reputation for recognizing wines accurately. Later in the evening, a bet was proposed by Richard Pratt to Mike Schofield, requesting his daughter's hand in marriage as part of the wager. The daughter, Louise, expressed disapproval at first, but reluctantly agreed with assurance from her father that there was no risk involved. Ultimately, the situation escalated with Pratt confidently identifying a wine correctly and appearing as a winner in the event. Additionally, a maid at the dinner party returned a pair of spectacles to Pratt, adding an element of intrigue to the scene.\n"
     ]
    }
   ],
   "source": [
    "query = \"who is richard pratt?\"\n",
    "graph.get_response(query=query)"
   ]
  },
  {
   "cell_type": "code",
   "execution_count": null,
   "metadata": {},
   "outputs": [],
   "source": []
  }
 ],
 "metadata": {
  "kernelspec": {
   "display_name": "graphreader",
   "language": "python",
   "name": "python3"
  },
  "language_info": {
   "codemirror_mode": {
    "name": "ipython",
    "version": 3
   },
   "file_extension": ".py",
   "mimetype": "text/x-python",
   "name": "python",
   "nbconvert_exporter": "python",
   "pygments_lexer": "ipython3",
   "version": "3.10.14"
  }
 },
 "nbformat": 4,
 "nbformat_minor": 2
}
