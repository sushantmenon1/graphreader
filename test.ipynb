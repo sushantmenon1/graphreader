{
 "cells": [
  {
   "cell_type": "code",
   "execution_count": 1,
   "metadata": {},
   "outputs": [
    {
     "name": "stderr",
     "output_type": "stream",
     "text": [
      "c:\\Users\\Sushant\\anaconda3\\envs\\graphreader\\lib\\site-packages\\pinecone\\data\\index.py:1: TqdmWarning: IProgress not found. Please update jupyter and ipywidgets. See https://ipywidgets.readthedocs.io/en/stable/user_install.html\n",
      "  from tqdm.autonotebook import tqdm\n"
     ]
    }
   ],
   "source": [
    "from graphreader import GraphReader\n",
    "import networkx as nx\n",
    "import matplotlib.pyplot as plt"
   ]
  },
  {
   "cell_type": "code",
   "execution_count": 3,
   "metadata": {},
   "outputs": [
    {
     "name": "stdout",
     "output_type": "stream",
     "text": [
      "Reading and chunking documents\n"
     ]
    },
    {
     "name": "stderr",
     "output_type": "stream",
     "text": [
      "100%|██████████| 282/282 [00:02<00:00, 125.72it/s]\n"
     ]
    }
   ],
   "source": [
    "graph = GraphReader(document_path=\"roald_dahl_s_tales_of_the_unexpected.pdf\")"
   ]
  },
  {
   "cell_type": "code",
   "execution_count": 5,
   "metadata": {},
   "outputs": [],
   "source": [
    "g = nx.read_gml(\"graph.gml\")"
   ]
  },
  {
   "cell_type": "code",
   "execution_count": 7,
   "metadata": {},
   "outputs": [
    {
     "data": {
      "text/plain": [
       "1005"
      ]
     },
     "execution_count": 7,
     "metadata": {},
     "output_type": "execute_result"
    }
   ],
   "source": [
    "len(g.nodes())"
   ]
  },
  {
   "cell_type": "code",
   "execution_count": 8,
   "metadata": {},
   "outputs": [
    {
     "data": {
      "text/plain": [
       "936"
      ]
     },
     "execution_count": 8,
     "metadata": {},
     "output_type": "execute_result"
    }
   ],
   "source": [
    "len(g.edges())"
   ]
  },
  {
   "cell_type": "code",
   "execution_count": 28,
   "metadata": {},
   "outputs": [
    {
     "data": {
      "text/plain": [
       "['car', 'driver', 'ticket']"
      ]
     },
     "execution_count": 28,
     "metadata": {},
     "output_type": "execute_result"
    }
   ],
   "source": [
    "[j for j in g.neighbors('hitchhiker')]"
   ]
  },
  {
   "cell_type": "code",
   "execution_count": 4,
   "metadata": {},
   "outputs": [
    {
     "name": "stdout",
     "output_type": "stream",
     "text": [
      "================================\u001b[1m Human Message \u001b[0m=================================\n",
      "\n",
      "who is richard pratt?\n",
      "==================================\u001b[1m Ai Message \u001b[0m==================================\n",
      "Tool Calls:\n",
      "  search_tool (call_zzFnORiTYwCUuvwhGMU0Ht1S)\n",
      " Call ID: call_zzFnORiTYwCUuvwhGMU0Ht1S\n",
      "  Args:\n",
      "    query: Richard Pratt\n",
      "=================================\u001b[1m Tool Message \u001b[0m=================================\n",
      "Name: search_tool\n",
      "\n",
      "[\"epicures\", \"spectacles\", \"mike.\", \"geierslay\", \"richard.\"]\n",
      "==================================\u001b[1m Ai Message \u001b[0m==================================\n",
      "Tool Calls:\n",
      "  get_node_data (call_UK4k94JCGKUF4yjyiDWOSsnL)\n",
      " Call ID: call_UK4k94JCGKUF4yjyiDWOSsnL\n",
      "  Args:\n",
      "    node_name: richard.\n",
      "=================================\u001b[1m Tool Message \u001b[0m=================================\n",
      "Name: get_node_data\n",
      "\n",
      "[{\"facts\": \"- A man with hard bright eyes convinced his daughter, Louise, to make a bet with him.\\n- Louise hesitated but eventually agreed to the bet on the condition that there would be no risk of losing.\\n- Mike, the man making the bet, was excited and filled up glasses with wine.\\n- Richard Pratt, a man around fifty years old with an unpleasant face, was involved in the betting situation.\", \"chunk_id\": 20}]\n",
      "==================================\u001b[1m Ai Message \u001b[0m==================================\n",
      "Tool Calls:\n",
      "  read_chunk (call_vKCbMuEpIiIkFN27tdkQuMMT)\n",
      " Call ID: call_vKCbMuEpIiIkFN27tdkQuMMT\n",
      "  Args:\n",
      "    chunk_ids: [20]\n",
      "=================================\u001b[1m Tool Message \u001b[0m=================================\n",
      "Name: read_chunk\n",
      "\n",
      "\"If you will take this bet,\" he said to his daughter\n",
      ", \"in ten minutes you will be the owner of two large houses.\"\n",
      "    \"But I don't want two large houses, Daddy.\"\n",
      "    \"Then sell them. Sell them back to him on the spot. I'll arrange all that fo\n",
      "r you. And then, just think of it, my dear, you'll be rich! You'll be independen\n",
      "t for the rest of your life!\"\n",
      "    \"Oh, Daddy, I don't like it. I think it's silly.\"\n",
      "    \"So do I,\" the mother said. She jerked her head briskly up and down as \n",
      "she spoke, like a hen. \"You ought to be ashamed of yourself, Michael, even \n",
      "suggesting such a thing! Your own daughter, too!\"\n",
      "    Mike didn't even look at her. \"Take it!\" he said eagerly, staring hard at th\n",
      "e girl. \"Take it, quick! I'll guarantee you won't lose.\"\n",
      "    \"But I don't like it, Daddy.\"\n",
      "    \"Come on, girl. Take it!\"\n",
      "    Mike was pushing her hard.He was leaning towards her, fixing her with t\n",
      "wo hard bright eyes, and it was not easy for the daughter to resist him.\n",
      "    \"But what if I lose?\"\n",
      "    \"I keep telling you, you can't lose. I'll guarantee it.\"\n",
      "    \"Oh, Daddy must I?\"\n",
      "    \"I'm making you a fortune. So come on now. What do you say, Louise? Al\n",
      "l right?\"\n",
      "    For the last time, she hesitated. Then she gave a helpless little shrug of t\n",
      "he shoulders and said, \"Oh, all right, then. Just so long as you swear there's n\n",
      "o danger of losing.\"\n",
      "    \"Good!\" Mike cried. \"That's fine! Then it's a be ... (truncated)\n",
      "==================================\u001b[1m Ai Message \u001b[0m==================================\n",
      "Tool Calls:\n",
      "  write_to_notes (call_dEeWvRvnGJFN9xrznd76mJ42)\n",
      " Call ID: call_dEeWvRvnGJFN9xrznd76mJ42\n",
      "  Args:\n",
      "    text: Richard Pratt, a man around fifty years old with an unpleasant face, was involved in a betting situation. He had a full, wet mouth and lips characteristic of a professional gourmet. He analyzed the wine in a glass with intense concentration during the betting event.\n",
      "=================================\u001b[1m Tool Message \u001b[0m=================================\n",
      "Name: write_to_notes\n",
      "\n",
      "null\n",
      "==================================\u001b[1m Ai Message \u001b[0m==================================\n",
      "\n",
      "I have gathered information about Richard Pratt. He is a man around fifty years old with an unpleasant face who was involved in a betting situation. He has a full, wet mouth and lips typical of a professional gourmet. During the betting event, he analyzed wine in a glass with intense concentration. Please let me know if you would like to know more details or if you have any other questions.\n"
     ]
    }
   ],
   "source": [
    "query = \"who is richard pratt?\"\n",
    "graph.get_response(query=query)"
   ]
  },
  {
   "cell_type": "code",
   "execution_count": 5,
   "metadata": {},
   "outputs": [
    {
     "name": "stdout",
     "output_type": "stream",
     "text": [
      "================================\u001b[1m Human Message \u001b[0m=================================\n",
      "\n",
      "who is richard pratt?\n",
      "==================================\u001b[1m Ai Message \u001b[0m==================================\n",
      "Tool Calls:\n",
      "  search_tool (call_akkAOa24SG3IHNnMHjkdGYpq)\n",
      " Call ID: call_akkAOa24SG3IHNnMHjkdGYpq\n",
      "  Args:\n",
      "    query: Richard Pratt\n",
      "=================================\u001b[1m Tool Message \u001b[0m=================================\n",
      "Name: search_tool\n",
      "\n",
      "[\"- characters: mike\", \"richard pratt\\n- places: london\\n- organizations: epicures\", \"spectacles\", \"gourmet\", \"mr. schofield\"]\n",
      "==================================\u001b[1m Ai Message \u001b[0m==================================\n",
      "Tool Calls:\n",
      "  get_node_data (call_cFwGdXIJVpgihqbybz2L55zE)\n",
      " Call ID: call_cFwGdXIJVpgihqbybz2L55zE\n",
      "  Args:\n",
      "    node_name: richard pratt\n",
      "=================================\u001b[1m Tool Message \u001b[0m=================================\n",
      "Name: get_node_data\n",
      "\n",
      "[{\"facts\": \"- Richard Pratt is a famous gourmet.\\n- Mike and his wife prepare special meals for Richard Pratt.\\n- Richard Pratt plays a betting game with Mike where he names the breed and vintage of the claret.\", \"chunk_id\": 3}, {\"facts\": \"- The person was a stock market jobber\\n- He felt embarrassed and ashamed for making a lot of money without much talent\\n- He considered himself like a bookmaker, somewhat unscrupulous\\n- He was trying to improve his cultural and aesthetic taste by collecting paintings, music, and books\\n- He made a comment about Rhine wine and Moselle as part of his attempt to appear cultured\\n- He was observing Richard Pratt closely at the table\", \"chunk_id\": 6}, {\"facts\": \"- Mike brought a dark bottle of wine in a wine basket to share with Richard Pratt.\\n- Richard Pratt appeared arrogant and condescending during the wine tasting.\\n- Mike claimed the wine was a claret, to which Richard guessed it might be from a smaller vineyard.\\n- The quality of the wine's year was uncertain, according to their conversation.\", \"chunk_id\": 10}, {\"facts\": \"- Richard Pratt is confident in naming a great year and willing to bet on it\\n- Mike finds the task difficult and hints at not wanting to force Pratt to bet\\n- Pratt is persistent in wanting to bet despite the difficulty mentioned by Mike\", \"chunk_id\": 11}, {\"facts\": \"- Richard Pratt asks Mike for his daughter' ... (truncated)\n",
      "==================================\u001b[1m Ai Message \u001b[0m==================================\n",
      "\n",
      "Richard Pratt is a famous gourmet known for his involvement in betting games and wine tasting. Some key points about Richard Pratt include:\n",
      "- Mike and his wife prepare special meals for Richard Pratt.\n",
      "- Richard Pratt plays a betting game with Mike where he names the breed and vintage of the claret.\n",
      "- He felt embarrassed and ashamed for making a lot of money without much talent and considered himself somewhat unscrupulous.\n",
      "- Richard Pratt appeared arrogant and condescending during a wine tasting with Mike.\n",
      "- He confidently names great years and is willing to bet on them.\n",
      "- Richard Pratt once asked Mike for his daughter's hand in marriage as a bet, causing surprise and disapproval from Mike's daughter and clarification from Mike.\n",
      "- Richard Pratt displayed winner-like behavior when demanding to see the label on a bottle and hesitated initially to claim a pair of spectacles presented to him by a maid.\n",
      "\n",
      "If you need more details or specific information about Richard Pratt, feel free to ask!\n"
     ]
    }
   ],
   "source": [
    "query = \"who is richard pratt?\"\n",
    "graph.get_response(query=query)"
   ]
  },
  {
   "cell_type": "code",
   "execution_count": null,
   "metadata": {},
   "outputs": [],
   "source": []
  }
 ],
 "metadata": {
  "kernelspec": {
   "display_name": "graphreader",
   "language": "python",
   "name": "python3"
  },
  "language_info": {
   "codemirror_mode": {
    "name": "ipython",
    "version": 3
   },
   "file_extension": ".py",
   "mimetype": "text/x-python",
   "name": "python",
   "nbconvert_exporter": "python",
   "pygments_lexer": "ipython3",
   "version": "3.10.14"
  }
 },
 "nbformat": 4,
 "nbformat_minor": 2
}
