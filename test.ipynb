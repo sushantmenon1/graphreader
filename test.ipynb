{
 "cells": [
  {
   "cell_type": "code",
   "execution_count": 1,
   "metadata": {},
   "outputs": [
    {
     "name": "stderr",
     "output_type": "stream",
     "text": [
      "c:\\Users\\Sushant\\anaconda3\\envs\\graphreader\\lib\\site-packages\\pinecone\\data\\index.py:1: TqdmWarning: IProgress not found. Please update jupyter and ipywidgets. See https://ipywidgets.readthedocs.io/en/stable/user_install.html\n",
      "  from tqdm.autonotebook import tqdm\n"
     ]
    }
   ],
   "source": [
    "from graphreader import GraphReader"
   ]
  },
  {
   "cell_type": "code",
   "execution_count": null,
   "metadata": {},
   "outputs": [],
   "source": [
    "import os\n",
    "os.environ['gpt_api_key'] = \"sk-None-3RHhSgrXVuc3GBbko7nZT3BlbkFJBvgehMwAnSEN8HGDZ5cM\"\n",
    "os.environ['pinecone_api_key']=\"2b414101-2b40-4c52-a9ed-92223cbff6f9\""
   ]
  },
  {
   "cell_type": "code",
   "execution_count": 2,
   "metadata": {},
   "outputs": [
    {
     "name": "stdout",
     "output_type": "stream",
     "text": [
      "Reading and chunking documents\n"
     ]
    },
    {
     "name": "stderr",
     "output_type": "stream",
     "text": [
      "100%|██████████| 282/282 [00:02<00:00, 129.30it/s]\n"
     ]
    }
   ],
   "source": [
    "graph = GraphReader(document_path=\"roald_dahl_s_tales_of_the_unexpected.pdf\")"
   ]
  },
  {
   "cell_type": "code",
   "execution_count": 5,
   "metadata": {},
   "outputs": [
    {
     "name": "stdout",
     "output_type": "stream",
     "text": [
      "================================\u001b[1m Human Message \u001b[0m=================================\n",
      "\n",
      "who is richard pratt?\n",
      "==================================\u001b[1m Ai Message \u001b[0m==================================\n",
      "Tool Calls:\n",
      "  search_tool (call_akkAOa24SG3IHNnMHjkdGYpq)\n",
      " Call ID: call_akkAOa24SG3IHNnMHjkdGYpq\n",
      "  Args:\n",
      "    query: Richard Pratt\n",
      "=================================\u001b[1m Tool Message \u001b[0m=================================\n",
      "Name: search_tool\n",
      "\n",
      "[\"- characters: mike\", \"richard pratt\\n- places: london\\n- organizations: epicures\", \"spectacles\", \"gourmet\", \"mr. schofield\"]\n",
      "==================================\u001b[1m Ai Message \u001b[0m==================================\n",
      "Tool Calls:\n",
      "  get_node_data (call_cFwGdXIJVpgihqbybz2L55zE)\n",
      " Call ID: call_cFwGdXIJVpgihqbybz2L55zE\n",
      "  Args:\n",
      "    node_name: richard pratt\n",
      "=================================\u001b[1m Tool Message \u001b[0m=================================\n",
      "Name: get_node_data\n",
      "\n",
      "[{\"facts\": \"- Richard Pratt is a famous gourmet.\\n- Mike and his wife prepare special meals for Richard Pratt.\\n- Richard Pratt plays a betting game with Mike where he names the breed and vintage of the claret.\", \"chunk_id\": 3}, {\"facts\": \"- The person was a stock market jobber\\n- He felt embarrassed and ashamed for making a lot of money without much talent\\n- He considered himself like a bookmaker, somewhat unscrupulous\\n- He was trying to improve his cultural and aesthetic taste by collecting paintings, music, and books\\n- He made a comment about Rhine wine and Moselle as part of his attempt to appear cultured\\n- He was observing Richard Pratt closely at the table\", \"chunk_id\": 6}, {\"facts\": \"- Mike brought a dark bottle of wine in a wine basket to share with Richard Pratt.\\n- Richard Pratt appeared arrogant and condescending during the wine tasting.\\n- Mike claimed the wine was a claret, to which Richard guessed it might be from a smaller vineyard.\\n- The quality of the wine's year was uncertain, according to their conversation.\", \"chunk_id\": 10}, {\"facts\": \"- Richard Pratt is confident in naming a great year and willing to bet on it\\n- Mike finds the task difficult and hints at not wanting to force Pratt to bet\\n- Pratt is persistent in wanting to bet despite the difficulty mentioned by Mike\", \"chunk_id\": 11}, {\"facts\": \"- Richard Pratt asks Mike for his daughter' ... (truncated)\n",
      "==================================\u001b[1m Ai Message \u001b[0m==================================\n",
      "\n",
      "Richard Pratt is a famous gourmet known for his involvement in betting games and wine tasting. Some key points about Richard Pratt include:\n",
      "- Mike and his wife prepare special meals for Richard Pratt.\n",
      "- Richard Pratt plays a betting game with Mike where he names the breed and vintage of the claret.\n",
      "- He felt embarrassed and ashamed for making a lot of money without much talent and considered himself somewhat unscrupulous.\n",
      "- Richard Pratt appeared arrogant and condescending during a wine tasting with Mike.\n",
      "- He confidently names great years and is willing to bet on them.\n",
      "- Richard Pratt once asked Mike for his daughter's hand in marriage as a bet, causing surprise and disapproval from Mike's daughter and clarification from Mike.\n",
      "- Richard Pratt displayed winner-like behavior when demanding to see the label on a bottle and hesitated initially to claim a pair of spectacles presented to him by a maid.\n",
      "\n",
      "If you need more details or specific information about Richard Pratt, feel free to ask!\n"
     ]
    }
   ],
   "source": [
    "query = \"who is richard pratt?\"\n",
    "graph.get_response(query=query)"
   ]
  },
  {
   "cell_type": "code",
   "execution_count": null,
   "metadata": {},
   "outputs": [],
   "source": []
  }
 ],
 "metadata": {
  "kernelspec": {
   "display_name": "graphreader",
   "language": "python",
   "name": "python3"
  },
  "language_info": {
   "codemirror_mode": {
    "name": "ipython",
    "version": 3
   },
   "file_extension": ".py",
   "mimetype": "text/x-python",
   "name": "python",
   "nbconvert_exporter": "python",
   "pygments_lexer": "ipython3",
   "version": "3.10.14"
  }
 },
 "nbformat": 4,
 "nbformat_minor": 2
}
